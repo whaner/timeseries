{
 "cells": [
  {
   "cell_type": "markdown",
   "id": "a0652a01",
   "metadata": {},
   "source": [
    "> https://www.youtube.com/watch?v=vV12dGe_Fho&t=692s&ab_channel=RobMulla"
   ]
  },
  {
   "cell_type": "code",
   "execution_count": null,
   "id": "d23d5370",
   "metadata": {},
   "outputs": [],
   "source": [
    "pip install sklearn"
   ]
  },
  {
   "cell_type": "code",
   "execution_count": 1,
   "id": "89cf9cb7",
   "metadata": {},
   "outputs": [],
   "source": [
    "import pandas as pd\n",
    "import numpy as np\n",
    "import matplotlib.pyplot as plt\n",
    "import seaborn as sns\n",
    "\n",
    "import xgboost as xgb"
   ]
  },
  {
   "cell_type": "code",
   "execution_count": 6,
   "id": "7e986903",
   "metadata": {},
   "outputs": [],
   "source": [
    "from sklearn.metrics import mean_squared_error\n",
    "color_pal = sns.color_palette()\n",
    "plt.style.use('fivethirtyeight')"
   ]
  },
  {
   "cell_type": "code",
   "execution_count": 7,
   "id": "34a2757a",
   "metadata": {},
   "outputs": [],
   "source": [
    "df = pd.read_csv('publiclines_pel_complete.csv')"
   ]
  },
  {
   "cell_type": "code",
   "execution_count": 11,
   "id": "0a32d71f",
   "metadata": {},
   "outputs": [],
   "source": [
    "df = df.set_index('date')"
   ]
  },
  {
   "cell_type": "code",
   "execution_count": 15,
   "id": "7ce89632",
   "metadata": {},
   "outputs": [
    {
     "data": {
      "text/html": [
       "<div>\n",
       "<style scoped>\n",
       "    .dataframe tbody tr th:only-of-type {\n",
       "        vertical-align: middle;\n",
       "    }\n",
       "\n",
       "    .dataframe tbody tr th {\n",
       "        vertical-align: top;\n",
       "    }\n",
       "\n",
       "    .dataframe thead th {\n",
       "        text-align: right;\n",
       "    }\n",
       "</style>\n",
       "<table border=\"1\" class=\"dataframe\">\n",
       "  <thead>\n",
       "    <tr style=\"text-align: right;\">\n",
       "      <th></th>\n",
       "      <th>line</th>\n",
       "      <th>total</th>\n",
       "      <th>business_day_mean</th>\n",
       "      <th>saturday_mean</th>\n",
       "      <th>sunday_mean</th>\n",
       "      <th>max</th>\n",
       "    </tr>\n",
       "  </thead>\n",
       "  <tbody>\n",
       "    <tr>\n",
       "      <th>count</th>\n",
       "      <td>112.000000</td>\n",
       "      <td>1.120000e+02</td>\n",
       "      <td>112.000000</td>\n",
       "      <td>112.000000</td>\n",
       "      <td>112.000000</td>\n",
       "      <td>112.000000</td>\n",
       "    </tr>\n",
       "    <tr>\n",
       "      <th>mean</th>\n",
       "      <td>5.250000</td>\n",
       "      <td>5.213371e+07</td>\n",
       "      <td>451000.000000</td>\n",
       "      <td>272482.142857</td>\n",
       "      <td>153276.785714</td>\n",
       "      <td>481892.857143</td>\n",
       "    </tr>\n",
       "    <tr>\n",
       "      <th>std</th>\n",
       "      <td>5.698901</td>\n",
       "      <td>1.882922e+08</td>\n",
       "      <td>283327.111749</td>\n",
       "      <td>185654.284065</td>\n",
       "      <td>103786.788534</td>\n",
       "      <td>300846.354403</td>\n",
       "    </tr>\n",
       "    <tr>\n",
       "      <th>min</th>\n",
       "      <td>1.000000</td>\n",
       "      <td>1.030999e+06</td>\n",
       "      <td>35000.000000</td>\n",
       "      <td>17000.000000</td>\n",
       "      <td>8000.000000</td>\n",
       "      <td>39000.000000</td>\n",
       "    </tr>\n",
       "    <tr>\n",
       "      <th>25%</th>\n",
       "      <td>1.750000</td>\n",
       "      <td>6.679000e+06</td>\n",
       "      <td>183000.000000</td>\n",
       "      <td>84250.000000</td>\n",
       "      <td>45250.000000</td>\n",
       "      <td>206500.000000</td>\n",
       "    </tr>\n",
       "    <tr>\n",
       "      <th>50%</th>\n",
       "      <td>2.500000</td>\n",
       "      <td>1.213650e+07</td>\n",
       "      <td>475500.000000</td>\n",
       "      <td>239500.000000</td>\n",
       "      <td>149000.000000</td>\n",
       "      <td>499500.000000</td>\n",
       "    </tr>\n",
       "    <tr>\n",
       "      <th>75%</th>\n",
       "      <td>6.000000</td>\n",
       "      <td>1.833125e+07</td>\n",
       "      <td>707000.000000</td>\n",
       "      <td>453250.000000</td>\n",
       "      <td>242000.000000</td>\n",
       "      <td>755000.000000</td>\n",
       "    </tr>\n",
       "    <tr>\n",
       "      <th>max</th>\n",
       "      <td>15.000000</td>\n",
       "      <td>9.700000e+08</td>\n",
       "      <td>889000.000000</td>\n",
       "      <td>642000.000000</td>\n",
       "      <td>348000.000000</td>\n",
       "      <td>973000.000000</td>\n",
       "    </tr>\n",
       "  </tbody>\n",
       "</table>\n",
       "</div>"
      ],
      "text/plain": [
       "             line         total  business_day_mean  saturday_mean  \\\n",
       "count  112.000000  1.120000e+02         112.000000     112.000000   \n",
       "mean     5.250000  5.213371e+07      451000.000000  272482.142857   \n",
       "std      5.698901  1.882922e+08      283327.111749  185654.284065   \n",
       "min      1.000000  1.030999e+06       35000.000000   17000.000000   \n",
       "25%      1.750000  6.679000e+06      183000.000000   84250.000000   \n",
       "50%      2.500000  1.213650e+07      475500.000000  239500.000000   \n",
       "75%      6.000000  1.833125e+07      707000.000000  453250.000000   \n",
       "max     15.000000  9.700000e+08      889000.000000  642000.000000   \n",
       "\n",
       "         sunday_mean            max  \n",
       "count     112.000000     112.000000  \n",
       "mean   153276.785714  481892.857143  \n",
       "std    103786.788534  300846.354403  \n",
       "min      8000.000000   39000.000000  \n",
       "25%     45250.000000  206500.000000  \n",
       "50%    149000.000000  499500.000000  \n",
       "75%    242000.000000  755000.000000  \n",
       "max    348000.000000  973000.000000  "
      ]
     },
     "execution_count": 15,
     "metadata": {},
     "output_type": "execute_result"
    }
   ],
   "source": [
    "df.describe()"
   ]
  },
  {
   "cell_type": "code",
   "execution_count": 14,
   "id": "b880d535",
   "metadata": {},
   "outputs": [
    {
     "data": {
      "text/plain": [
       "<Axes: xlabel='date'>"
      ]
     },
     "execution_count": 14,
     "metadata": {},
     "output_type": "execute_result"
    },
    {
     "data": {
      "image/png": "[encoded data removed]",
      "text/plain": [
       "<Figure size 1500x500 with 1 Axes>"
      ]
     },
     "metadata": {},
     "output_type": "display_data"
    }
   ],
   "source": [
    "df['total'].plot(style='.', figsize=(15,5), color = color_pal[0])"
   ]
  },
  {
   "cell_type": "code",
   "execution_count": null,
   "id": "13007420",
   "metadata": {},
   "outputs": [],
   "source": []
  }
 ],
 "metadata": {
  "kernelspec": {
   "display_name": "Python 3 (ipykernel)",
   "language": "python",
   "name": "python3"
  },
  "language_info": {
   "codemirror_mode": {
    "name": "ipython",
    "version": 3
   },
   "file_extension": ".py",
   "mimetype": "text/x-python",
   "name": "python",
   "nbconvert_exporter": "python",
   "pygments_lexer": "ipython3",
   "version": "3.11.3"
  }
 },
 "nbformat": 4,
 "nbformat_minor": 5
}
