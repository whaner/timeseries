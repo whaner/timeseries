{
  "nbformat": 4,
  "nbformat_minor": 0,
  "metadata": {
    "colab": {
      "provenance": []
    },
    "kernelspec": {
      "name": "python3",
      "display_name": "Python 3"
    },
    "language_info": {
      "name": "python"
    }
  },
  "cells": [
    {
      "cell_type": "markdown",
      "source": [
        "# Resources"
      ],
      "metadata": {
        "id": "_7Nt2j5--3Co"
      }
    },
    {
      "cell_type": "markdown",
      "source": [
        "- [Blog post](https://medium.com/grabngoinfo/3-ways-for-multiple-time-series-forecasting-using-prophet-in-python-7a0709a117f9) for this notebook\n",
        "- Video tutorial for this post on [YouTube](https://www.youtube.com/watch?v=1YAEk3v9S-o&list=PLVppujud2yJpVhqR0tqdw1lQPUuplBYM6&index=4)\n",
        "- More video tutorials on [time series](https://www.youtube.com/playlist?list=PLVppujud2yJpVhqR0tqdw1lQPUuplBYM6)\n",
        "- More blog posts on [time series](https://medium.com/@AmyGrabNGoInfo/list/time-series-0aba8a92cca1)\n",
        "\n",
        "\n",
        "For more information about data science and machine learning, please check out my [YouTube channel](https://www.youtube.com/channel/UCmbA7XB6Wb7bLwJw9ARPcYg), [Medium Page](https://medium.com/@AmyGrabNGoInfo) and [GrabNGoInfo.com](https://grabngoinfo.com/tutorials/), or follow GrabNGoInfo on [LinkedIn](https://www.linkedin.com/company/grabngoinfo/)."
      ],
      "metadata": {
        "id": "TNSInL7z-914"
      }
    },
    {
      "cell_type": "markdown",
      "source": [
        "# Intro"
      ],
      "metadata": {
        "id": "ODmW29Ko6qxJ"
      }
    },
    {
      "cell_type": "markdown",
      "source": [
        "Welcome to GrabNGoInfo! Multiple time series forecasting refers to training many time series models and making predictions. For example, if we would like to predict the sales quantity of 10 products in 5 stores, there will be 50 store-product combinations, and each combination is a time series. Using the multiple time series model, we can train and predict the 50 time series model at the same time. Another example is to predict multiple stock prices at the same time.\n",
        "\n",
        "In this tutorial, we will predict the stock prices of five tech companies using Prophet. Three ways of running multiple time series forecasting will be demonstrated. You will learn:\n",
        "\n",
        "* How to run multiple time series forecasting using for loop?\n",
        "* How to set up multi-processing and utilize all the cores on a computer to run multiple time series models?\n",
        "* How to set up PySpark to run multiple time series forecasting in parallel?\n",
        "\n",
        "If you are not familiar with Prophet, please check out my previous tutorial [Time Series Forecasting Of Bitcoin Prices Using Prophet](https://medium.com/grabngoinfo/time-series-forecasting-of-bitcoin-prices-using-prophet-1069133708bc) and [Multivariate Time Series Forecasting with Seasonality and Holiday Effect Using Prophet in Python](https://medium.com/grabngoinfo/multivariate-time-series-forecasting-with-seasonality-and-holiday-effect-using-prophet-in-python-d5d4150eeb57).\n",
        "\n",
        "Let's get started!"
      ],
      "metadata": {
        "id": "MCVyVupsM-Lx"
      }
    },
    {
      "cell_type": "markdown",
      "source": [
        "# Step 1: Install and Import Libraries"
      ],
      "metadata": {
        "id": "6g_GipJ8ukCL"
      }
    },
    {
      "cell_type": "markdown",
      "source": [
        "In the first step, we will install and import libraries.\n",
        "\n",
        "Three packages are installed:\n",
        "\n",
        "* `yfinance` is the python package for pulling stock data from Yahoo Finance. \n",
        "* `prophet` is the package for the time series model. \n",
        "* `pyspark` is for setting up the Spark environment."
      ],
      "metadata": {
        "id": "Mg7yWwzKUTaK"
      }
    },
    {
      "cell_type": "code",
      "source": [
        "# Install libraries\n",
        "!pip install yfinance prophet pyspark"
      ],
      "metadata": {
        "colab": {
          "base_uri": "https://localhost:8080/"
        },
        "id": "c5lJ_xeOt2lj",
        "outputId": "eb2c686e-f618-4052-9c60-46f6996577f6"
      },
      "execution_count": null,
      "outputs": [
        {
          "output_type": "stream",
          "name": "stdout",
          "text": [
            "Looking in indexes: https://pypi.org/simple, https://us-python.pkg.dev/colab-wheels/public/simple/\n",
            "Collecting yfinance\n",
            "  Downloading yfinance-0.1.70-py2.py3-none-any.whl (26 kB)\n",
            "Collecting prophet\n",
            "  Downloading prophet-1.0.1.tar.gz (65 kB)\n",
            "\u001b[K     |████████████████████████████████| 65 kB 4.4 MB/s \n",
            "\u001b[?25hCollecting pyspark\n",
            "  Downloading pyspark-3.2.1.tar.gz (281.4 MB)\n",
            "\u001b[K     |████████████████████████████████| 281.4 MB 35 kB/s \n",
            "\u001b[?25hRequirement already satisfied: numpy>=1.15 in /usr/local/lib/python3.7/dist-packages (from yfinance) (1.21.6)\n",
            "Requirement already satisfied: multitasking>=0.0.7 in /usr/local/lib/python3.7/dist-packages (from yfinance) (0.0.10)\n",
            "Collecting requests>=2.26\n",
            "  Downloading requests-2.27.1-py2.py3-none-any.whl (63 kB)\n",
            "\u001b[K     |████████████████████████████████| 63 kB 2.2 MB/s \n",
            "\u001b[?25hRequirement already satisfied: pandas>=0.24.0 in /usr/local/lib/python3.7/dist-packages (from yfinance) (1.3.5)\n",
            "Collecting lxml>=4.5.1\n",
            "  Downloading lxml-4.8.0-cp37-cp37m-manylinux_2_17_x86_64.manylinux2014_x86_64.manylinux_2_24_x86_64.whl (6.4 MB)\n",
            "\u001b[K     |████████████████████████████████| 6.4 MB 31.6 MB/s \n",
            "\u001b[?25hRequirement already satisfied: python-dateutil>=2.7.3 in /usr/local/lib/python3.7/dist-packages (from pandas>=0.24.0->yfinance) (2.8.2)\n",
            "Requirement already satisfied: pytz>=2017.3 in /usr/local/lib/python3.7/dist-packages (from pandas>=0.24.0->yfinance) (2022.1)\n",
            "Requirement already satisfied: six>=1.5 in /usr/local/lib/python3.7/dist-packages (from python-dateutil>=2.7.3->pandas>=0.24.0->yfinance) (1.15.0)\n",
            "Requirement already satisfied: urllib3<1.27,>=1.21.1 in /usr/local/lib/python3.7/dist-packages (from requests>=2.26->yfinance) (1.24.3)\n",
            "Requirement already satisfied: idna<4,>=2.5 in /usr/local/lib/python3.7/dist-packages (from requests>=2.26->yfinance) (2.10)\n",
            "Requirement already satisfied: certifi>=2017.4.17 in /usr/local/lib/python3.7/dist-packages (from requests>=2.26->yfinance) (2022.5.18.1)\n",
            "Requirement already satisfied: charset-normalizer~=2.0.0 in /usr/local/lib/python3.7/dist-packages (from requests>=2.26->yfinance) (2.0.12)\n",
            "Requirement already satisfied: Cython>=0.22 in /usr/local/lib/python3.7/dist-packages (from prophet) (0.29.30)\n",
            "Collecting cmdstanpy==0.9.68\n",
            "  Downloading cmdstanpy-0.9.68-py3-none-any.whl (49 kB)\n",
            "\u001b[K     |████████████████████████████████| 49 kB 7.7 MB/s \n",
            "\u001b[?25hRequirement already satisfied: pystan~=2.19.1.1 in /usr/local/lib/python3.7/dist-packages (from prophet) (2.19.1.1)\n",
            "Requirement already satisfied: matplotlib>=2.0.0 in /usr/local/lib/python3.7/dist-packages (from prophet) (3.2.2)\n",
            "Requirement already satisfied: LunarCalendar>=0.0.9 in /usr/local/lib/python3.7/dist-packages (from prophet) (0.0.9)\n",
            "Requirement already satisfied: convertdate>=2.1.2 in /usr/local/lib/python3.7/dist-packages (from prophet) (2.4.0)\n",
            "Requirement already satisfied: holidays>=0.10.2 in /usr/local/lib/python3.7/dist-packages (from prophet) (0.10.5.2)\n",
            "Requirement already satisfied: setuptools-git>=1.2 in /usr/local/lib/python3.7/dist-packages (from prophet) (1.2)\n",
            "Requirement already satisfied: tqdm>=4.36.1 in /usr/local/lib/python3.7/dist-packages (from prophet) (4.64.0)\n",
            "Collecting ujson\n",
            "  Downloading ujson-5.3.0-cp37-cp37m-manylinux_2_17_x86_64.manylinux2014_x86_64.whl (45 kB)\n",
            "\u001b[K     |████████████████████████████████| 45 kB 3.8 MB/s \n",
            "\u001b[?25hRequirement already satisfied: pymeeus<=1,>=0.3.13 in /usr/local/lib/python3.7/dist-packages (from convertdate>=2.1.2->prophet) (0.5.11)\n",
            "Requirement already satisfied: korean-lunar-calendar in /usr/local/lib/python3.7/dist-packages (from holidays>=0.10.2->prophet) (0.2.1)\n",
            "Requirement already satisfied: hijri-converter in /usr/local/lib/python3.7/dist-packages (from holidays>=0.10.2->prophet) (2.2.3)\n",
            "Requirement already satisfied: ephem>=3.7.5.3 in /usr/local/lib/python3.7/dist-packages (from LunarCalendar>=0.0.9->prophet) (4.1.3)\n",
            "Requirement already satisfied: kiwisolver>=1.0.1 in /usr/local/lib/python3.7/dist-packages (from matplotlib>=2.0.0->prophet) (1.4.2)\n",
            "Requirement already satisfied: pyparsing!=2.0.4,!=2.1.2,!=2.1.6,>=2.0.1 in /usr/local/lib/python3.7/dist-packages (from matplotlib>=2.0.0->prophet) (3.0.9)\n",
            "Requirement already satisfied: cycler>=0.10 in /usr/local/lib/python3.7/dist-packages (from matplotlib>=2.0.0->prophet) (0.11.0)\n",
            "Requirement already satisfied: typing-extensions in /usr/local/lib/python3.7/dist-packages (from kiwisolver>=1.0.1->matplotlib>=2.0.0->prophet) (4.2.0)\n",
            "Collecting py4j==0.10.9.3\n",
            "  Downloading py4j-0.10.9.3-py2.py3-none-any.whl (198 kB)\n",
            "\u001b[K     |████████████████████████████████| 198 kB 63.2 MB/s \n",
            "\u001b[?25hBuilding wheels for collected packages: prophet, pyspark\n",
            "  Building wheel for prophet (setup.py) ... \u001b[?25l\u001b[?25hdone\n",
            "  Created wheel for prophet: filename=prophet-1.0.1-py3-none-any.whl size=6641162 sha256=037786250b3d0fc27771060b3f712bc371293485ea4c28bc8e0e91b432de58b4\n",
            "  Stored in directory: /root/.cache/pip/wheels/4e/a0/1a/02c9ec9e3e9de6bdbb3d769d11992a6926889d71567d6b9b67\n",
            "  Building wheel for pyspark (setup.py) ... \u001b[?25l\u001b[?25hdone\n",
            "  Created wheel for pyspark: filename=pyspark-3.2.1-py2.py3-none-any.whl size=281853642 sha256=26e2c780ad9a406d5eac05236d4b9d7ef448b2128433ada237ac44a0a5376905\n",
            "  Stored in directory: /root/.cache/pip/wheels/9f/f5/07/7cd8017084dce4e93e84e92efd1e1d5334db05f2e83bcef74f\n",
            "Successfully built prophet pyspark\n",
            "Installing collected packages: ujson, requests, py4j, lxml, cmdstanpy, yfinance, pyspark, prophet\n",
            "  Attempting uninstall: requests\n",
            "    Found existing installation: requests 2.23.0\n",
            "    Uninstalling requests-2.23.0:\n",
            "      Successfully uninstalled requests-2.23.0\n",
            "  Attempting uninstall: lxml\n",
            "    Found existing installation: lxml 4.2.6\n",
            "    Uninstalling lxml-4.2.6:\n",
            "      Successfully uninstalled lxml-4.2.6\n",
            "  Attempting uninstall: cmdstanpy\n",
            "    Found existing installation: cmdstanpy 0.9.5\n",
            "    Uninstalling cmdstanpy-0.9.5:\n",
            "      Successfully uninstalled cmdstanpy-0.9.5\n",
            "\u001b[31mERROR: pip's dependency resolver does not currently take into account all the packages that are installed. This behaviour is the source of the following dependency conflicts.\n",
            "google-colab 1.0.0 requires requests~=2.23.0, but you have requests 2.27.1 which is incompatible.\n",
            "fbprophet 0.7.1 requires cmdstanpy==0.9.5, but you have cmdstanpy 0.9.68 which is incompatible.\n",
            "datascience 0.10.6 requires folium==0.2.1, but you have folium 0.8.3 which is incompatible.\u001b[0m\n",
            "Successfully installed cmdstanpy-0.9.68 lxml-4.8.0 prophet-1.0.1 py4j-0.10.9.3 pyspark-3.2.1 requests-2.27.1 ujson-5.3.0 yfinance-0.1.70\n"
          ]
        }
      ]
    },
    {
      "cell_type": "markdown",
      "source": [
        "\n",
        "After installing the three python packages, we imported the libraries needed for this tutorial.\n",
        "\n",
        "* `pandas` and `numpy` are for data processing.\n",
        "* `yfinance` is for pulling stock price data from Yahoo Finance.\n",
        "* `prophet` is for building the time series model.\n",
        "* `seaborn` and `matplotlib` are for visualization.\n",
        "* `Pool` and `cpu_count` are for multi-processing.\n",
        "* `pyspark.sql.types`, `pandas_udf`, and `PandasUDFType` are for Spark parallel processing.\n",
        "* `tqdm` is for generating a process bar to show the completed percentage.\n",
        "* `time` is for tracking the time used for modeling and prediction."
      ],
      "metadata": {
        "id": "ACTDY8FkV-qv"
      }
    },
    {
      "cell_type": "code",
      "execution_count": null,
      "metadata": {
        "id": "oFeHW0sJtRjq"
      },
      "outputs": [],
      "source": [
        "# Data processing\n",
        "import pandas as pd\n",
        "import numpy as np\n",
        "\n",
        "# Get time series data\n",
        "import yfinance as yf\n",
        "\n",
        "# Prophet model for time series forecast\n",
        "from prophet import Prophet\n",
        "\n",
        "# Visualization\n",
        "import seaborn as sns\n",
        "import matplotlib.pyplot as plt\n",
        "\n",
        "# Multi-processing\n",
        "from multiprocessing import Pool, cpu_count\n",
        "\n",
        "# Spark\n",
        "from pyspark.sql.types import *\n",
        "from pyspark.sql.functions import pandas_udf, PandasUDFType\n",
        "\n",
        "# Process bar\n",
        "from tqdm import tqdm\n",
        "\n",
        "# Tracking time\n",
        "from time import time\n"
      ]
    },
    {
      "cell_type": "markdown",
      "source": [
        "# Step 2: Pull Data"
      ],
      "metadata": {
        "id": "AI9nhW00uqlf"
      }
    },
    {
      "cell_type": "markdown",
      "source": [
        "The second step pulls stock data from Yahoo Finance API. We will pull 2 years of daily data from the beginning of 2020 to the end of 2021.\n",
        "\n",
        "* `start_date = '2020-01-02'` means the earliest date for the stock data is January 2nd of 2020. It did not start with January 1st because January 1st is a holiday, and there is no stock data on holidays and weekends.\n",
        "* `end_date = '2022-01-01'` means that the last date for the stock data is December 31st of 2021. `yfinance` excludes the end date, so we need to add one day to the last day of the data end date."
      ],
      "metadata": {
        "id": "kcqrtLfked9x"
      }
    },
    {
      "cell_type": "code",
      "source": [
        "# Data start date\n",
        "start_date = '2020-01-02'\n",
        "\n",
        "# Data end date\n",
        "end_date = '2022-01-01' # yfinance excludes the end date, so we need to add one day to the last day of data"
      ],
      "metadata": {
        "id": "5IBpAQiw6Cvt"
      },
      "execution_count": null,
      "outputs": []
    },
    {
      "cell_type": "markdown",
      "source": [
        "We will download the closing prices for five tickers. FB is for Facebook (Meta), GOOG is for Google, ORCL is for Oracle, MSFT is for Microsoft, and AMZN is for Amazon.\n",
        "\n",
        "The goal of the time series model is to predict the closing price of all five stocks.\n",
        "\n"
      ],
      "metadata": {
        "id": "xQldvojVgkmM"
      }
    },
    {
      "cell_type": "code",
      "source": [
        "# Download data\n",
        "ticker_list = ['FB', 'GOOG', 'ORCL', 'MSFT', 'AMZN']\n",
        "data = yf.download(ticker_list, start=start_date, end=end_date)[['Close']]\n",
        "\n",
        "# Drop the top level column name\n",
        "data.columns = data.columns.droplevel()\n",
        "\n",
        "# Take a look at the data\n",
        "data.head()"
      ],
      "metadata": {
        "colab": {
          "base_uri": "https://localhost:8080/",
          "height": 255
        },
        "id": "HE7vJYxPvA7F",
        "outputId": "12ce0cfc-70ad-471e-c22d-585129cacfad"
      },
      "execution_count": null,
      "outputs": [
        {
          "output_type": "stream",
          "name": "stdout",
          "text": [
            "[*********************100%***********************]  5 of 5 completed\n"
          ]
        },
        {
          "output_type": "execute_result",
          "data": {
            "text/plain": [
              "                   AMZN          FB         GOOG        MSFT       ORCL\n",
              "Date                                                                   \n",
              "2020-01-02  1898.010010  209.779999  1367.369995  160.619995  53.950001\n",
              "2020-01-03  1874.969971  208.669998  1360.660034  158.619995  53.759998\n",
              "2020-01-06  1902.880005  212.600006  1394.209961  159.029999  54.040001\n",
              "2020-01-07  1906.859985  213.059998  1393.339966  157.580002  54.160000\n",
              "2020-01-08  1891.969971  215.220001  1404.319946  160.089996  54.130001"
            ],
            "text/html": [
              "\n",
              "  <div id=\"df-b89628b6-6194-44f4-b30f-5b3efb366660\">\n",
              "    <div class=\"colab-df-container\">\n",
              "      <div>\n",
              "<style scoped>\n",
              "    .dataframe tbody tr th:only-of-type {\n",
              "        vertical-align: middle;\n",
              "    }\n",
              "\n",
              "    .dataframe tbody tr th {\n",
              "        vertical-align: top;\n",
              "    }\n",
              "\n",
              "    .dataframe thead th {\n",
              "        text-align: right;\n",
              "    }\n",
              "</style>\n",
              "<table border=\"1\" class=\"dataframe\">\n",
              "  <thead>\n",
              "    <tr style=\"text-align: right;\">\n",
              "      <th></th>\n",
              "      <th>AMZN</th>\n",
              "      <th>FB</th>\n",
              "      <th>GOOG</th>\n",
              "      <th>MSFT</th>\n",
              "      <th>ORCL</th>\n",
              "    </tr>\n",
              "    <tr>\n",
              "      <th>Date</th>\n",
              "      <th></th>\n",
              "      <th></th>\n",
              "      <th></th>\n",
              "      <th></th>\n",
              "      <th></th>\n",
              "    </tr>\n",
              "  </thead>\n",
              "  <tbody>\n",
              "    <tr>\n",
              "      <th>2020-01-02</th>\n",
              "      <td>1898.010010</td>\n",
              "      <td>209.779999</td>\n",
              "      <td>1367.369995</td>\n",
              "      <td>160.619995</td>\n",
              "      <td>53.950001</td>\n",
              "    </tr>\n",
              "    <tr>\n",
              "      <th>2020-01-03</th>\n",
              "      <td>1874.969971</td>\n",
              "      <td>208.669998</td>\n",
              "      <td>1360.660034</td>\n",
              "      <td>158.619995</td>\n",
              "      <td>53.759998</td>\n",
              "    </tr>\n",
              "    <tr>\n",
              "      <th>2020-01-06</th>\n",
              "      <td>1902.880005</td>\n",
              "      <td>212.600006</td>\n",
              "      <td>1394.209961</td>\n",
              "      <td>159.029999</td>\n",
              "      <td>54.040001</td>\n",
              "    </tr>\n",
              "    <tr>\n",
              "      <th>2020-01-07</th>\n",
              "      <td>1906.859985</td>\n",
              "      <td>213.059998</td>\n",
              "      <td>1393.339966</td>\n",
              "      <td>157.580002</td>\n",
              "      <td>54.160000</td>\n",
              "    </tr>\n",
              "    <tr>\n",
              "      <th>2020-01-08</th>\n",
              "      <td>1891.969971</td>\n",
              "      <td>215.220001</td>\n",
              "      <td>1404.319946</td>\n",
              "      <td>160.089996</td>\n",
              "      <td>54.130001</td>\n",
              "    </tr>\n",
              "  </tbody>\n",
              "</table>\n",
              "</div>\n",
              "      <button class=\"colab-df-convert\" onclick=\"convertToInteractive('df-b89628b6-6194-44f4-b30f-5b3efb366660')\"\n",
              "              title=\"Convert this dataframe to an interactive table.\"\n",
              "              style=\"display:none;\">\n",
              "        \n",
              "  <svg xmlns=\"http://www.w3.org/2000/svg\" height=\"24px\"viewBox=\"0 0 24 24\"\n",
              "       width=\"24px\">\n",
              "    <path d=\"M0 0h24v24H0V0z\" fill=\"none\"/>\n",
              "    <path d=\"M18.56 5.44l.94 2.06.94-2.06 2.06-.94-2.06-.94-.94-2.06-.94 2.06-2.06.94zm-11 1L8.5 8.5l.94-2.06 2.06-.94-2.06-.94L8.5 2.5l-.94 2.06-2.06.94zm10 10l.94 2.06.94-2.06 2.06-.94-2.06-.94-.94-2.06-.94 2.06-2.06.94z\"/><path d=\"M17.41 7.96l-1.37-1.37c-.4-.4-.92-.59-1.43-.59-.52 0-1.04.2-1.43.59L10.3 9.45l-7.72 7.72c-.78.78-.78 2.05 0 2.83L4 21.41c.39.39.9.59 1.41.59.51 0 1.02-.2 1.41-.59l7.78-7.78 2.81-2.81c.8-.78.8-2.07 0-2.86zM5.41 20L4 18.59l7.72-7.72 1.47 1.35L5.41 20z\"/>\n",
              "  </svg>\n",
              "      </button>\n",
              "      \n",
              "  <style>\n",
              "    .colab-df-container {\n",
              "      display:flex;\n",
              "      flex-wrap:wrap;\n",
              "      gap: 12px;\n",
              "    }\n",
              "\n",
              "    .colab-df-convert {\n",
              "      background-color: #E8F0FE;\n",
              "      border: none;\n",
              "      border-radius: 50%;\n",
              "      cursor: pointer;\n",
              "      display: none;\n",
              "      fill: #1967D2;\n",
              "      height: 32px;\n",
              "      padding: 0 0 0 0;\n",
              "      width: 32px;\n",
              "    }\n",
              "\n",
              "    .colab-df-convert:hover {\n",
              "      background-color: #E2EBFA;\n",
              "      box-shadow: 0px 1px 2px rgba(60, 64, 67, 0.3), 0px 1px 3px 1px rgba(60, 64, 67, 0.15);\n",
              "      fill: #174EA6;\n",
              "    }\n",
              "\n",
              "    [theme=dark] .colab-df-convert {\n",
              "      background-color: #3B4455;\n",
              "      fill: #D2E3FC;\n",
              "    }\n",
              "\n",
              "    [theme=dark] .colab-df-convert:hover {\n",
              "      background-color: #434B5C;\n",
              "      box-shadow: 0px 1px 3px 1px rgba(0, 0, 0, 0.15);\n",
              "      filter: drop-shadow(0px 1px 2px rgba(0, 0, 0, 0.3));\n",
              "      fill: #FFFFFF;\n",
              "    }\n",
              "  </style>\n",
              "\n",
              "      <script>\n",
              "        const buttonEl =\n",
              "          document.querySelector('#df-b89628b6-6194-44f4-b30f-5b3efb366660 button.colab-df-convert');\n",
              "        buttonEl.style.display =\n",
              "          google.colab.kernel.accessAllowed ? 'block' : 'none';\n",
              "\n",
              "        async function convertToInteractive(key) {\n",
              "          const element = document.querySelector('#df-b89628b6-6194-44f4-b30f-5b3efb366660');\n",
              "          const dataTable =\n",
              "            await google.colab.kernel.invokeFunction('convertToInteractive',\n",
              "                                                     [key], {});\n",
              "          if (!dataTable) return;\n",
              "\n",
              "          const docLinkHtml = 'Like what you see? Visit the ' +\n",
              "            '<a target=\"_blank\" href=https://colab.research.google.com/notebooks/data_table.ipynb>data table notebook</a>'\n",
              "            + ' to learn more about interactive tables.';\n",
              "          element.innerHTML = '';\n",
              "          dataTable['output_type'] = 'display_data';\n",
              "          await google.colab.output.renderOutput(dataTable, element);\n",
              "          const docLink = document.createElement('div');\n",
              "          docLink.innerHTML = docLinkHtml;\n",
              "          element.appendChild(docLink);\n",
              "        }\n",
              "      </script>\n",
              "    </div>\n",
              "  </div>\n",
              "  "
            ]
          },
          "metadata": {},
          "execution_count": 5
        }
      ]
    },
    {
      "cell_type": "markdown",
      "source": [
        "From the visualization of the stock prices, we can see that all five stocks increase in prices, and Amazon and Google have the highest prices."
      ],
      "metadata": {
        "id": "eNviZAN4iCqx"
      }
    },
    {
      "cell_type": "code",
      "source": [
        "# Visualize data using seaborn\n",
        "sns.set(rc={'figure.figsize':(12,8)})\n",
        "sns.lineplot(x=data.index, y=data['FB'])\n",
        "sns.lineplot(x=data.index, y=data['AMZN'])\n",
        "sns.lineplot(x=data.index, y=data['GOOG'])\n",
        "sns.lineplot(x=data.index, y=data['MSFT'])\n",
        "sns.lineplot(x=data.index, y=data['ORCL'])\n",
        "plt.legend(labels = ['Facebook', 'Amazon', 'Google', 'Microsoft', 'Oracle'])"
      ],
      "metadata": {
        "colab": {
          "base_uri": "https://localhost:8080/",
          "height": 520
        },
        "id": "VEIPPm6BvICg",
        "outputId": "5894e7af-361d-4604-9d71-f68bde06aac1"
      },
      "execution_count": null,
      "outputs": [
        {
          "output_type": "execute_result",
          "data": {
            "text/plain": [
              "<matplotlib.legend.Legend at 0x7f22bc66e750>"
            ]
          },
          "metadata": {},
          "execution_count": 5
        },
        {
          "output_type": "display_data",
          "data": {
            "text/plain": [
              "<Figure size 864x576 with 1 Axes>"
            ],
            "image/png": "[encoded data removed]"
          },
          "metadata": {}
        }
      ]
    },
    {
      "cell_type": "markdown",
      "source": [
        "There are 505 data points for each ticker, and there are no missing values."
      ],
      "metadata": {
        "id": "Eyd95hCQjJY0"
      }
    },
    {
      "cell_type": "code",
      "source": [
        "# Data information\n",
        "data.info()"
      ],
      "metadata": {
        "colab": {
          "base_uri": "https://localhost:8080/"
        },
        "id": "FqFrUYFmvMhi",
        "outputId": "23ad6be7-8ff1-470e-96cc-89f945f8d9ab"
      },
      "execution_count": null,
      "outputs": [
        {
          "output_type": "stream",
          "name": "stdout",
          "text": [
            "<class 'pandas.core.frame.DataFrame'>\n",
            "DatetimeIndex: 505 entries, 2020-01-02 to 2021-12-31\n",
            "Data columns (total 5 columns):\n",
            " #   Column  Non-Null Count  Dtype  \n",
            "---  ------  --------------  -----  \n",
            " 0   AMZN    505 non-null    float64\n",
            " 1   FB      505 non-null    float64\n",
            " 2   GOOG    505 non-null    float64\n",
            " 3   MSFT    505 non-null    float64\n",
            " 4   ORCL    505 non-null    float64\n",
            "dtypes: float64(5)\n",
            "memory usage: 23.7 KB\n"
          ]
        }
      ]
    },
    {
      "cell_type": "markdown",
      "source": [
        "# Step 3: Data Processing"
      ],
      "metadata": {
        "id": "KM_ssT4L0LJ9"
      }
    },
    {
      "cell_type": "markdown",
      "source": [
        "Step 3 transforms the dataset into a multiple time series model dataset.\n",
        "\n",
        "Firstly, the dataset is transformed from the wide format to the long format using the pandas `.melt` function.\n",
        "\n",
        "Prophet requires at least two columns as inputs: a `ds` column and a `y` column.\n",
        "\n",
        "* The `ds` column has the time information. The column `Date` is renamed to `ds`.\n",
        "* The `y` column has the time series values. In this example, because we are predicting the closing stock price, y represents the stock close price.\n",
        "* There is no pre-defined name for the individual time series in prophet, so we can keep the name `ticker` as is."
      ],
      "metadata": {
        "id": "SEGUmZ47m8_C"
      }
    },
    {
      "cell_type": "code",
      "source": [
        "# Release Date from the index\n",
        "data = data.reset_index()\n",
        "\n",
        "# Change data from the wide format to the long format\n",
        "df = pd.melt(data, id_vars='Date', value_vars=['AMZN', 'FB', 'GOOG', 'MSFT', 'ORCL'])\n",
        "df.columns = ['ds', 'ticker', 'y']\n",
        "df.head()"
      ],
      "metadata": {
        "colab": {
          "base_uri": "https://localhost:8080/",
          "height": 206
        },
        "id": "QHQ5MLxA0jEB",
        "outputId": "a3c60887-8c84-4edd-b101-ba1dbfdb50f5"
      },
      "execution_count": null,
      "outputs": [
        {
          "output_type": "execute_result",
          "data": {
            "text/plain": [
              "          ds ticker            y\n",
              "0 2020-01-02   AMZN  1898.010010\n",
              "1 2020-01-03   AMZN  1874.969971\n",
              "2 2020-01-06   AMZN  1902.880005\n",
              "3 2020-01-07   AMZN  1906.859985\n",
              "4 2020-01-08   AMZN  1891.969971"
            ],
            "text/html": [
              "\n",
              "  <div id=\"df-b46a94ff-a931-4bc5-b7b3-a5585feb019f\">\n",
              "    <div class=\"colab-df-container\">\n",
              "      <div>\n",
              "<style scoped>\n",
              "    .dataframe tbody tr th:only-of-type {\n",
              "        vertical-align: middle;\n",
              "    }\n",
              "\n",
              "    .dataframe tbody tr th {\n",
              "        vertical-align: top;\n",
              "    }\n",
              "\n",
              "    .dataframe thead th {\n",
              "        text-align: right;\n",
              "    }\n",
              "</style>\n",
              "<table border=\"1\" class=\"dataframe\">\n",
              "  <thead>\n",
              "    <tr style=\"text-align: right;\">\n",
              "      <th></th>\n",
              "      <th>ds</th>\n",
              "      <th>ticker</th>\n",
              "      <th>y</th>\n",
              "    </tr>\n",
              "  </thead>\n",
              "  <tbody>\n",
              "    <tr>\n",
              "      <th>0</th>\n",
              "      <td>2020-01-02</td>\n",
              "      <td>AMZN</td>\n",
              "      <td>1898.010010</td>\n",
              "    </tr>\n",
              "    <tr>\n",
              "      <th>1</th>\n",
              "      <td>2020-01-03</td>\n",
              "      <td>AMZN</td>\n",
              "      <td>1874.969971</td>\n",
              "    </tr>\n",
              "    <tr>\n",
              "      <th>2</th>\n",
              "      <td>2020-01-06</td>\n",
              "      <td>AMZN</td>\n",
              "      <td>1902.880005</td>\n",
              "    </tr>\n",
              "    <tr>\n",
              "      <th>3</th>\n",
              "      <td>2020-01-07</td>\n",
              "      <td>AMZN</td>\n",
              "      <td>1906.859985</td>\n",
              "    </tr>\n",
              "    <tr>\n",
              "      <th>4</th>\n",
              "      <td>2020-01-08</td>\n",
              "      <td>AMZN</td>\n",
              "      <td>1891.969971</td>\n",
              "    </tr>\n",
              "  </tbody>\n",
              "</table>\n",
              "</div>\n",
              "      <button class=\"colab-df-convert\" onclick=\"convertToInteractive('df-b46a94ff-a931-4bc5-b7b3-a5585feb019f')\"\n",
              "              title=\"Convert this dataframe to an interactive table.\"\n",
              "              style=\"display:none;\">\n",
              "        \n",
              "  <svg xmlns=\"http://www.w3.org/2000/svg\" height=\"24px\"viewBox=\"0 0 24 24\"\n",
              "       width=\"24px\">\n",
              "    <path d=\"M0 0h24v24H0V0z\" fill=\"none\"/>\n",
              "    <path d=\"M18.56 5.44l.94 2.06.94-2.06 2.06-.94-2.06-.94-.94-2.06-.94 2.06-2.06.94zm-11 1L8.5 8.5l.94-2.06 2.06-.94-2.06-.94L8.5 2.5l-.94 2.06-2.06.94zm10 10l.94 2.06.94-2.06 2.06-.94-2.06-.94-.94-2.06-.94 2.06-2.06.94z\"/><path d=\"M17.41 7.96l-1.37-1.37c-.4-.4-.92-.59-1.43-.59-.52 0-1.04.2-1.43.59L10.3 9.45l-7.72 7.72c-.78.78-.78 2.05 0 2.83L4 21.41c.39.39.9.59 1.41.59.51 0 1.02-.2 1.41-.59l7.78-7.78 2.81-2.81c.8-.78.8-2.07 0-2.86zM5.41 20L4 18.59l7.72-7.72 1.47 1.35L5.41 20z\"/>\n",
              "  </svg>\n",
              "      </button>\n",
              "      \n",
              "  <style>\n",
              "    .colab-df-container {\n",
              "      display:flex;\n",
              "      flex-wrap:wrap;\n",
              "      gap: 12px;\n",
              "    }\n",
              "\n",
              "    .colab-df-convert {\n",
              "      background-color: #E8F0FE;\n",
              "      border: none;\n",
              "      border-radius: 50%;\n",
              "      cursor: pointer;\n",
              "      display: none;\n",
              "      fill: #1967D2;\n",
              "      height: 32px;\n",
              "      padding: 0 0 0 0;\n",
              "      width: 32px;\n",
              "    }\n",
              "\n",
              "    .colab-df-convert:hover {\n",
              "      background-color: #E2EBFA;\n",
              "      box-shadow: 0px 1px 2px rgba(60, 64, 67, 0.3), 0px 1px 3px 1px rgba(60, 64, 67, 0.15);\n",
              "      fill: #174EA6;\n",
              "    }\n",
              "\n",
              "    [theme=dark] .colab-df-convert {\n",
              "      background-color: #3B4455;\n",
              "      fill: #D2E3FC;\n",
              "    }\n",
              "\n",
              "    [theme=dark] .colab-df-convert:hover {\n",
              "      background-color: #434B5C;\n",
              "      box-shadow: 0px 1px 3px 1px rgba(0, 0, 0, 0.15);\n",
              "      filter: drop-shadow(0px 1px 2px rgba(0, 0, 0, 0.3));\n",
              "      fill: #FFFFFF;\n",
              "    }\n",
              "  </style>\n",
              "\n",
              "      <script>\n",
              "        const buttonEl =\n",
              "          document.querySelector('#df-b46a94ff-a931-4bc5-b7b3-a5585feb019f button.colab-df-convert');\n",
              "        buttonEl.style.display =\n",
              "          google.colab.kernel.accessAllowed ? 'block' : 'none';\n",
              "\n",
              "        async function convertToInteractive(key) {\n",
              "          const element = document.querySelector('#df-b46a94ff-a931-4bc5-b7b3-a5585feb019f');\n",
              "          const dataTable =\n",
              "            await google.colab.kernel.invokeFunction('convertToInteractive',\n",
              "                                                     [key], {});\n",
              "          if (!dataTable) return;\n",
              "\n",
              "          const docLinkHtml = 'Like what you see? Visit the ' +\n",
              "            '<a target=\"_blank\" href=https://colab.research.google.com/notebooks/data_table.ipynb>data table notebook</a>'\n",
              "            + ' to learn more about interactive tables.';\n",
              "          element.innerHTML = '';\n",
              "          dataTable['output_type'] = 'display_data';\n",
              "          await google.colab.output.renderOutput(dataTable, element);\n",
              "          const docLink = document.createElement('div');\n",
              "          docLink.innerHTML = docLinkHtml;\n",
              "          element.appendChild(docLink);\n",
              "        }\n",
              "      </script>\n",
              "    </div>\n",
              "  </div>\n",
              "  "
            ]
          },
          "metadata": {},
          "execution_count": 6
        }
      ]
    },
    {
      "cell_type": "markdown",
      "source": [
        "After transforming the dataset from the wide format to the long format, we have 2525 records."
      ],
      "metadata": {
        "id": "0AlAi8Tg7b4W"
      }
    },
    {
      "cell_type": "code",
      "source": [
        "# Check the dataset information\n",
        "df.info()"
      ],
      "metadata": {
        "colab": {
          "base_uri": "https://localhost:8080/"
        },
        "id": "N7KWHw042Pgs",
        "outputId": "8fe2e7e3-692b-48d0-8ecd-18b558508bbc"
      },
      "execution_count": null,
      "outputs": [
        {
          "output_type": "stream",
          "name": "stdout",
          "text": [
            "<class 'pandas.core.frame.DataFrame'>\n",
            "RangeIndex: 2525 entries, 0 to 2524\n",
            "Data columns (total 3 columns):\n",
            " #   Column  Non-Null Count  Dtype         \n",
            "---  ------  --------------  -----         \n",
            " 0   ds      2525 non-null   datetime64[ns]\n",
            " 1   ticker  2525 non-null   object        \n",
            " 2   y       2525 non-null   float64       \n",
            "dtypes: datetime64[ns](1), float64(1), object(1)\n",
            "memory usage: 59.3+ KB\n"
          ]
        }
      ]
    },
    {
      "cell_type": "markdown",
      "source": [
        "Next, we group the pandas dataframe by the column `ticker` and save it in a new dataframe called `groups_by_ticker`. Using `.groups.keys()`, we can confirm that there are five groups, one group for each ticker."
      ],
      "metadata": {
        "id": "E6CuHC_J7pUY"
      }
    },
    {
      "cell_type": "code",
      "source": [
        "# Group the data by ticker\n",
        "groups_by_ticker = df.groupby('ticker')\n",
        "\n",
        "# Check the groups in the dataframe\n",
        "groups_by_ticker.groups.keys()"
      ],
      "metadata": {
        "colab": {
          "base_uri": "https://localhost:8080/"
        },
        "id": "x6R7Jqt0mv8_",
        "outputId": "d70da14e-1961-4ee1-eae5-f02d9d6698c8"
      },
      "execution_count": null,
      "outputs": [
        {
          "output_type": "execute_result",
          "data": {
            "text/plain": [
              "dict_keys(['AMZN', 'FB', 'GOOG', 'MSFT', 'ORCL'])"
            ]
          },
          "metadata": {},
          "execution_count": 9
        }
      ]
    },
    {
      "cell_type": "markdown",
      "source": [
        "# Step 4: Define Function"
      ],
      "metadata": {
        "id": "ljkX6TQ7xyy5"
      }
    },
    {
      "cell_type": "markdown",
      "source": [
        "In step 4, the function for training and forecasting each group is defined.\n",
        "\n",
        "* The input data is an individual time series data for a group.\n",
        "* `Prophet()` initiates the time series model with the default hyperparameters, and we give the model the name `m`. I will create another tutorial for prophet time series model hyperparameter tuning. Please subscribe to the YouTube channel or Medium email so you will be notified when the video is published.\n",
        "* `m.fit(group)` fits the prophet model on the individual time series data, which is the stock price data for a ticker.\n",
        "* `make_future_dataframe` creates a new dataframe called `future` for the forecasting. `periods=15` means that we will forecast for 15 days of data. To use a different frequency, we can specify the `freq` option. For example, `periods=15, freq='MS'` means that we are forecasting for the next 15 months.\n",
        "* After predicting on the `future` dataframe, prophet produces a long list of outputs. We only kept `ds`, `yhat`, `yhat_lower` and `yhat_upper`. `yhat` is the predicted value. `yhat_lower` and `yhat_upper` are the lower and upper bound of the uncertainty interval.\n",
        "* A new column called `ticker` is created in the forecast dataframe to indicate the ticker name for the predictions.\n",
        "\n",
        "The output of the function has 5 columns: `ds`, `ticker`, `yhat`, `yhat_upper`, and `yhat_lower`.\n"
      ],
      "metadata": {
        "id": "qNqEJTwg-G1W"
      }
    },
    {
      "cell_type": "code",
      "source": [
        "def train_and_forecast(group):\n",
        "\n",
        "  # Initiate the model\n",
        "  m = Prophet()\n",
        "  \n",
        "  # Fit the model\n",
        "  m.fit(group)\n",
        "\n",
        "  # Make predictions\n",
        "  future = m.make_future_dataframe(periods=15)\n",
        "  forecast = m.predict(future)[['ds', 'yhat', 'yhat_lower', 'yhat_upper']]\n",
        "  forecast['ticker'] = group['ticker'].iloc[0]\n",
        "  \n",
        "  # Return the forecasted results\n",
        "  return forecast[['ds', 'ticker', 'yhat', 'yhat_upper', 'yhat_lower']]  "
      ],
      "metadata": {
        "id": "7WekYnHHx55C"
      },
      "execution_count": null,
      "outputs": []
    },
    {
      "cell_type": "markdown",
      "source": [
        "# Step 5: Multiple Time Series Forecast Using For-Loop"
      ],
      "metadata": {
        "id": "vxg2GTTQpw1B"
      }
    },
    {
      "cell_type": "markdown",
      "source": [
        "In step 5, we will make multiple time series forecasting using for-loop.\n",
        "\n",
        "* The time used for the forecast is calculated by recording the time in the beginning and at the end, then getting the difference between the two. \n",
        "* An empty dataframe is created to save the forecast results.\n",
        "* For each ticker, we firstly get the time series data, then apply the function for training and forecasting to each individual time series, and finally concatenate the forecast results together."
      ],
      "metadata": {
        "id": "BaGeelyU1phL"
      }
    },
    {
      "cell_type": "code",
      "source": [
        "# Start time\n",
        "start_time = time()\n",
        "\n",
        "# Create an empty dataframe\n",
        "for_loop_forecast = pd.DataFrame()\n",
        "\n",
        "# Loop through each ticker\n",
        "for ticker in ticker_list:\n",
        "  # Get the data for the ticker\n",
        "  group = groups_by_ticker.get_group(ticker)  \n",
        "  # Make forecast\n",
        "  forecast = train_and_forecast(group)\n",
        "  # Add the forecast results to the dataframe\n",
        "  for_loop_forecast = pd.concat((for_loop_forecast, forecast))\n",
        "\n",
        "print('The time used for the for-loop forecast is ', time()-start_time)"
      ],
      "metadata": {
        "colab": {
          "base_uri": "https://localhost:8080/"
        },
        "id": "4yFAj1HUyNr_",
        "outputId": "21febd3d-7c4e-4760-8aa6-4e8d678a8d6c"
      },
      "execution_count": null,
      "outputs": [
        {
          "output_type": "stream",
          "name": "stderr",
          "text": [
            "INFO:prophet:Disabling yearly seasonality. Run prophet with yearly_seasonality=True to override this.\n",
            "INFO:prophet:Disabling daily seasonality. Run prophet with daily_seasonality=True to override this.\n",
            "INFO:prophet:Disabling yearly seasonality. Run prophet with yearly_seasonality=True to override this.\n",
            "INFO:prophet:Disabling daily seasonality. Run prophet with daily_seasonality=True to override this.\n",
            "INFO:prophet:Disabling yearly seasonality. Run prophet with yearly_seasonality=True to override this.\n",
            "INFO:prophet:Disabling daily seasonality. Run prophet with daily_seasonality=True to override this.\n",
            "INFO:prophet:Disabling yearly seasonality. Run prophet with yearly_seasonality=True to override this.\n",
            "INFO:prophet:Disabling daily seasonality. Run prophet with daily_seasonality=True to override this.\n",
            "INFO:prophet:Disabling yearly seasonality. Run prophet with yearly_seasonality=True to override this.\n",
            "INFO:prophet:Disabling daily seasonality. Run prophet with daily_seasonality=True to override this.\n"
          ]
        },
        {
          "output_type": "stream",
          "name": "stdout",
          "text": [
            "The time used for the for-loop forecast is  27.879573822021484\n"
          ]
        }
      ]
    },
    {
      "cell_type": "markdown",
      "source": [
        "It took 28 seconds to run the five time series models using a for-loop, and the output has five columns."
      ],
      "metadata": {
        "id": "pPSxamD16Ree"
      }
    },
    {
      "cell_type": "code",
      "source": [
        "# Take a look at the data\n",
        "for_loop_forecast.head()"
      ],
      "metadata": {
        "colab": {
          "base_uri": "https://localhost:8080/",
          "height": 206
        },
        "id": "3Fbq5I8mnmGN",
        "outputId": "0bd298f9-4637-45e4-e16a-d17c2acc8d39"
      },
      "execution_count": null,
      "outputs": [
        {
          "output_type": "execute_result",
          "data": {
            "text/plain": [
              "          ds ticker        yhat  yhat_upper  yhat_lower\n",
              "0 2020-01-02     FB  224.734150  240.507579  210.502181\n",
              "1 2020-01-03     FB  224.243277  239.519978  208.408881\n",
              "2 2020-01-06     FB  221.608512  236.772237  207.396789\n",
              "3 2020-01-07     FB  221.951772  235.888989  207.042186\n",
              "4 2020-01-08     FB  221.305873  236.219368  207.250376"
            ],
            "text/html": [
              "\n",
              "  <div id=\"df-f56cae86-2e74-48d1-b1f8-9b75311953d6\">\n",
              "    <div class=\"colab-df-container\">\n",
              "      <div>\n",
              "<style scoped>\n",
              "    .dataframe tbody tr th:only-of-type {\n",
              "        vertical-align: middle;\n",
              "    }\n",
              "\n",
              "    .dataframe tbody tr th {\n",
              "        vertical-align: top;\n",
              "    }\n",
              "\n",
              "    .dataframe thead th {\n",
              "        text-align: right;\n",
              "    }\n",
              "</style>\n",
              "<table border=\"1\" class=\"dataframe\">\n",
              "  <thead>\n",
              "    <tr style=\"text-align: right;\">\n",
              "      <th></th>\n",
              "      <th>ds</th>\n",
              "      <th>ticker</th>\n",
              "      <th>yhat</th>\n",
              "      <th>yhat_upper</th>\n",
              "      <th>yhat_lower</th>\n",
              "    </tr>\n",
              "  </thead>\n",
              "  <tbody>\n",
              "    <tr>\n",
              "      <th>0</th>\n",
              "      <td>2020-01-02</td>\n",
              "      <td>FB</td>\n",
              "      <td>224.734150</td>\n",
              "      <td>240.507579</td>\n",
              "      <td>210.502181</td>\n",
              "    </tr>\n",
              "    <tr>\n",
              "      <th>1</th>\n",
              "      <td>2020-01-03</td>\n",
              "      <td>FB</td>\n",
              "      <td>224.243277</td>\n",
              "      <td>239.519978</td>\n",
              "      <td>208.408881</td>\n",
              "    </tr>\n",
              "    <tr>\n",
              "      <th>2</th>\n",
              "      <td>2020-01-06</td>\n",
              "      <td>FB</td>\n",
              "      <td>221.608512</td>\n",
              "      <td>236.772237</td>\n",
              "      <td>207.396789</td>\n",
              "    </tr>\n",
              "    <tr>\n",
              "      <th>3</th>\n",
              "      <td>2020-01-07</td>\n",
              "      <td>FB</td>\n",
              "      <td>221.951772</td>\n",
              "      <td>235.888989</td>\n",
              "      <td>207.042186</td>\n",
              "    </tr>\n",
              "    <tr>\n",
              "      <th>4</th>\n",
              "      <td>2020-01-08</td>\n",
              "      <td>FB</td>\n",
              "      <td>221.305873</td>\n",
              "      <td>236.219368</td>\n",
              "      <td>207.250376</td>\n",
              "    </tr>\n",
              "  </tbody>\n",
              "</table>\n",
              "</div>\n",
              "      <button class=\"colab-df-convert\" onclick=\"convertToInteractive('df-f56cae86-2e74-48d1-b1f8-9b75311953d6')\"\n",
              "              title=\"Convert this dataframe to an interactive table.\"\n",
              "              style=\"display:none;\">\n",
              "        \n",
              "  <svg xmlns=\"http://www.w3.org/2000/svg\" height=\"24px\"viewBox=\"0 0 24 24\"\n",
              "       width=\"24px\">\n",
              "    <path d=\"M0 0h24v24H0V0z\" fill=\"none\"/>\n",
              "    <path d=\"M18.56 5.44l.94 2.06.94-2.06 2.06-.94-2.06-.94-.94-2.06-.94 2.06-2.06.94zm-11 1L8.5 8.5l.94-2.06 2.06-.94-2.06-.94L8.5 2.5l-.94 2.06-2.06.94zm10 10l.94 2.06.94-2.06 2.06-.94-2.06-.94-.94-2.06-.94 2.06-2.06.94z\"/><path d=\"M17.41 7.96l-1.37-1.37c-.4-.4-.92-.59-1.43-.59-.52 0-1.04.2-1.43.59L10.3 9.45l-7.72 7.72c-.78.78-.78 2.05 0 2.83L4 21.41c.39.39.9.59 1.41.59.51 0 1.02-.2 1.41-.59l7.78-7.78 2.81-2.81c.8-.78.8-2.07 0-2.86zM5.41 20L4 18.59l7.72-7.72 1.47 1.35L5.41 20z\"/>\n",
              "  </svg>\n",
              "      </button>\n",
              "      \n",
              "  <style>\n",
              "    .colab-df-container {\n",
              "      display:flex;\n",
              "      flex-wrap:wrap;\n",
              "      gap: 12px;\n",
              "    }\n",
              "\n",
              "    .colab-df-convert {\n",
              "      background-color: #E8F0FE;\n",
              "      border: none;\n",
              "      border-radius: 50%;\n",
              "      cursor: pointer;\n",
              "      display: none;\n",
              "      fill: #1967D2;\n",
              "      height: 32px;\n",
              "      padding: 0 0 0 0;\n",
              "      width: 32px;\n",
              "    }\n",
              "\n",
              "    .colab-df-convert:hover {\n",
              "      background-color: #E2EBFA;\n",
              "      box-shadow: 0px 1px 2px rgba(60, 64, 67, 0.3), 0px 1px 3px 1px rgba(60, 64, 67, 0.15);\n",
              "      fill: #174EA6;\n",
              "    }\n",
              "\n",
              "    [theme=dark] .colab-df-convert {\n",
              "      background-color: #3B4455;\n",
              "      fill: #D2E3FC;\n",
              "    }\n",
              "\n",
              "    [theme=dark] .colab-df-convert:hover {\n",
              "      background-color: #434B5C;\n",
              "      box-shadow: 0px 1px 3px 1px rgba(0, 0, 0, 0.15);\n",
              "      filter: drop-shadow(0px 1px 2px rgba(0, 0, 0, 0.3));\n",
              "      fill: #FFFFFF;\n",
              "    }\n",
              "  </style>\n",
              "\n",
              "      <script>\n",
              "        const buttonEl =\n",
              "          document.querySelector('#df-f56cae86-2e74-48d1-b1f8-9b75311953d6 button.colab-df-convert');\n",
              "        buttonEl.style.display =\n",
              "          google.colab.kernel.accessAllowed ? 'block' : 'none';\n",
              "\n",
              "        async function convertToInteractive(key) {\n",
              "          const element = document.querySelector('#df-f56cae86-2e74-48d1-b1f8-9b75311953d6');\n",
              "          const dataTable =\n",
              "            await google.colab.kernel.invokeFunction('convertToInteractive',\n",
              "                                                     [key], {});\n",
              "          if (!dataTable) return;\n",
              "\n",
              "          const docLinkHtml = 'Like what you see? Visit the ' +\n",
              "            '<a target=\"_blank\" href=https://colab.research.google.com/notebooks/data_table.ipynb>data table notebook</a>'\n",
              "            + ' to learn more about interactive tables.';\n",
              "          element.innerHTML = '';\n",
              "          dataTable['output_type'] = 'display_data';\n",
              "          await google.colab.output.renderOutput(dataTable, element);\n",
              "          const docLink = document.createElement('div');\n",
              "          docLink.innerHTML = docLinkHtml;\n",
              "          element.appendChild(docLink);\n",
              "        }\n",
              "      </script>\n",
              "    </div>\n",
              "  </div>\n",
              "  "
            ]
          },
          "metadata": {},
          "execution_count": 12
        }
      ]
    },
    {
      "cell_type": "markdown",
      "source": [
        "# Step 6: Multiple Time Series Forecast Using Multi-Processing"
      ],
      "metadata": {
        "id": "Lk-Q_h_-obRL"
      }
    },
    {
      "cell_type": "markdown",
      "source": [
        "In step 6, we will use the Python `multiprocessing` package to run the time series forecasts in parallel.\n",
        "\n",
        "* Firstly, the time series data for each ticker is saved in a list.\n",
        "\n",
        "* Secondly, a `pool` process with the number of workers being the number of CPUs. The `pool` object from the `multiprocessing` Python package executes a function across input data in parallel. `cpu_count()` returns the number of CPUs in the system.\n",
        "* `imap` is the parallel version of `map`. It returns an object and the results need to be converted to a list. We use `imap` to apply the `train_and_forcast` function to each element in the list called series, where each element is a dataframe for an individual ticker.\n",
        "* `tqdm` shows the progress bar of the training.\n",
        "* The prediction output is a list of forecast results, one dataframe for each ticker.\n",
        "* The pool process needs to be manually terminated using `.close()`. Failure to do this can lead to the process hanging on finalization.\n",
        "* `.join()` tells the pool to wait till all the jobs are finished before exiting.\n",
        "* Finally, the results for all the tickers are concatenated into one single dataframe.\n",
        "\n",
        "This process takes around 10 seconds.\n",
        " "
      ],
      "metadata": {
        "id": "rU8NDuXBs1qW"
      }
    },
    {
      "cell_type": "code",
      "source": [
        "# Start time\n",
        "start_time = time()\n",
        "\n",
        "# Get time series data for each ticker and save in a list\n",
        "series = [groups_by_ticker.get_group(ticker) for ticker in ticker_list]\n",
        "\n",
        "# Create a pool process with the number of worker processes being the number of CPUs\n",
        "p = Pool(cpu_count())\n",
        "\n",
        "# Make predictions for each ticker and save the results to a list\n",
        "predictions = list(tqdm(p.imap(train_and_forecast, series), total=len(series)))\n",
        "\n",
        "# Terminate the pool process\n",
        "p.close()\n",
        "\n",
        "# Tell the pool to wait till all the jobs are finished before exit\n",
        "p.join()\n",
        "\n",
        "# Concatenate results\n",
        "multiprocess_forecast = pd.concat(predictions)\n",
        "\n",
        "# Get the time used for the forecast\n",
        "print('\\nThe time used for the multi-processing forecast is ', time()-start_time)"
      ],
      "metadata": {
        "colab": {
          "base_uri": "https://localhost:8080/"
        },
        "id": "sR4Drcri3TOU",
        "outputId": "06374bf8-4f11-4897-d268-b71afaf876a5"
      },
      "execution_count": null,
      "outputs": [
        {
          "output_type": "stream",
          "name": "stderr",
          "text": [
            "\r  0%|          | 0/5 [00:00<?, ?it/s]INFO:prophet:Disabling yearly seasonality. Run prophet with yearly_seasonality=True to override this.\n",
            "INFO:prophet:Disabling daily seasonality. Run prophet with daily_seasonality=True to override this.\n",
            "INFO:prophet:Disabling yearly seasonality. Run prophet with yearly_seasonality=True to override this.\n",
            "INFO:prophet:Disabling daily seasonality. Run prophet with daily_seasonality=True to override this.\n",
            " 20%|██        | 1/5 [00:03<00:15,  3.80s/it]INFO:prophet:Disabling yearly seasonality. Run prophet with yearly_seasonality=True to override this.\n",
            "INFO:prophet:Disabling daily seasonality. Run prophet with daily_seasonality=True to override this.\n",
            "INFO:prophet:Disabling yearly seasonality. Run prophet with yearly_seasonality=True to override this.\n",
            "INFO:prophet:Disabling daily seasonality. Run prophet with daily_seasonality=True to override this.\n",
            "INFO:prophet:Disabling yearly seasonality. Run prophet with yearly_seasonality=True to override this.\n",
            "INFO:prophet:Disabling daily seasonality. Run prophet with daily_seasonality=True to override this.\n",
            "100%|██████████| 5/5 [00:09<00:00,  1.91s/it]"
          ]
        },
        {
          "output_type": "stream",
          "name": "stdout",
          "text": [
            "\n",
            "The time used for the multi-processing forecast is  9.68030071258545\n"
          ]
        },
        {
          "output_type": "stream",
          "name": "stderr",
          "text": [
            "\n"
          ]
        }
      ]
    },
    {
      "cell_type": "markdown",
      "source": [
        "# Step 7: Multiple Time Series Forecast Using Spark"
      ],
      "metadata": {
        "id": "Z_Cijho5uLot"
      }
    },
    {
      "cell_type": "markdown",
      "source": [
        "In step 7, we will use Spark to forecast multiple time series in parallel. The workers in a Spark cluster can train and forecast a subset of models in parallel.\n",
        "\n",
        "Firstly, a Spark session called `spark` is created. We can type the Spark session name to check the information such as the Spark version. Version 3.2.1 is used in this example."
      ],
      "metadata": {
        "id": "oYG9zQz2pXr6"
      }
    },
    {
      "cell_type": "code",
      "source": [
        "# Import SparkSession\n",
        "from pyspark.sql import SparkSession\n",
        "# Create a Spark Session\n",
        "spark = SparkSession.builder.master(\"local[*]\").getOrCreate()\n",
        "# Check Spark Session Information\n",
        "spark"
      ],
      "metadata": {
        "colab": {
          "base_uri": "https://localhost:8080/",
          "height": 221
        },
        "id": "aabIQ7stzS_T",
        "outputId": "22fa5270-8546-4b68-812d-404c7b1b1fde"
      },
      "execution_count": null,
      "outputs": [
        {
          "output_type": "execute_result",
          "data": {
            "text/plain": [
              "<pyspark.sql.session.SparkSession at 0x7ff188810c10>"
            ],
            "text/html": [
              "\n",
              "            <div>\n",
              "                <p><b>SparkSession - in-memory</b></p>\n",
              "                \n",
              "        <div>\n",
              "            <p><b>SparkContext</b></p>\n",
              "\n",
              "            <p><a href=\"http://39cc84627280:4040\">Spark UI</a></p>\n",
              "\n",
              "            <dl>\n",
              "              <dt>Version</dt>\n",
              "                <dd><code>v3.2.1</code></dd>\n",
              "              <dt>Master</dt>\n",
              "                <dd><code>local[*]</code></dd>\n",
              "              <dt>AppName</dt>\n",
              "                <dd><code>pyspark-shell</code></dd>\n",
              "            </dl>\n",
              "        </div>\n",
              "        \n",
              "            </div>\n",
              "        "
            ]
          },
          "metadata": {},
          "execution_count": 9
        }
      ]
    },
    {
      "cell_type": "markdown",
      "source": [
        "Next, the pandas dataframe is converted to a Spark dataframe and grouped by ticker. \n",
        "* `spark.createDataFrame` takes a pandas dataframe and converts it into a Spark dataframe.\n",
        "* `applyInPandas` maps each group using a pandas UDF (User Defined Function) and returns a dataframe. \n",
        "* `schema` is a StructType describing the schema of the returned dataframe."
      ],
      "metadata": {
        "id": "J-NgbVtsta4E"
      }
    },
    {
      "cell_type": "code",
      "source": [
        "# Convert the pandas dataframe into a spark dataframe\n",
        "sdf = spark.createDataFrame(df)\n",
        "\n",
        "# Define the restult schema\n",
        "result_schema =StructType([\n",
        "  StructField('ds',DateType()),\n",
        "  StructField('ticker',StringType()),\n",
        "  StructField('yhat',FloatType()),\n",
        "  StructField('yhat_upper',FloatType()),\n",
        "  StructField('yhat_lower',FloatType())\n",
        "  ])\n",
        "\n",
        "# Start time\n",
        "start_time = time()\n",
        "\n",
        "# Train and forecast by ticker \n",
        "spark_forecast = sdf.groupBy('ticker').applyInPandas(train_and_forecast, schema=result_schema)\n",
        "\n",
        "# Take a look at the results\n",
        "spark_forecast.show(5)\n",
        "\n",
        "# Processing time\n",
        "print('The time used for the Spark forecast is ', time()-start_time)"
      ],
      "metadata": {
        "colab": {
          "base_uri": "https://localhost:8080/"
        },
        "id": "Sme-2MaN2CE0",
        "outputId": "46456ed2-c340-41ca-a40f-5d7cb36d9b66"
      },
      "execution_count": null,
      "outputs": [
        {
          "output_type": "stream",
          "name": "stdout",
          "text": [
            "+----------+------+---------+----------+----------+\n",
            "|        ds|ticker|     yhat|yhat_upper|yhat_lower|\n",
            "+----------+------+---------+----------+----------+\n",
            "|2020-01-02|  AMZN|1874.2633| 2038.9186| 1731.7717|\n",
            "|2020-01-03|  AMZN|1867.2312| 2000.8362| 1707.6724|\n",
            "|2020-01-06|  AMZN|1868.9219| 2024.8553| 1721.1112|\n",
            "|2020-01-07|  AMZN|1881.8456| 2028.5168| 1736.3002|\n",
            "|2020-01-08|  AMZN|1886.3406| 2047.3295| 1743.9379|\n",
            "+----------+------+---------+----------+----------+\n",
            "only showing top 5 rows\n",
            "\n",
            "The time used for the Spark forecast is  11.66998553276062\n"
          ]
        }
      ]
    },
    {
      "cell_type": "markdown",
      "source": [
        "Spark used 12 seconds for the forecast."
      ],
      "metadata": {
        "id": "jNCf7JYe2q6j"
      }
    },
    {
      "cell_type": "markdown",
      "source": [
        "Another way of doing multiple time series forecasting is to use `pandas_udf` as a decorator, and apply the function to the grouped Spark dataframe. However, It is preferred to use `applyInPandas` over this API because it will be deprecated in future releases. \n",
        "\n",
        "Nevertheless, I provide the code for using the `pandas_udf` decorator for your reference."
      ],
      "metadata": {
        "id": "UEOx6Rvz3BgE"
      }
    },
    {
      "cell_type": "code",
      "source": [
        "@pandas_udf( result_schema, PandasUDFType.GROUPED_MAP )\n",
        "def train_and_forecast(group):\n",
        "\n",
        "  # Initiate the model\n",
        "  m = Prophet()\n",
        "  \n",
        "  # Fit the model\n",
        "  m.fit(group)\n",
        "\n",
        "  # Make predictions\n",
        "  future = m.make_future_dataframe(periods=15)\n",
        "  forecast = m.predict(future)[['ds', 'yhat', 'yhat_lower', 'yhat_upper']]\n",
        "  forecast['ticker'] = group['ticker'].iloc[0]\n",
        "  \n",
        "  # Return the forecasted results\n",
        "  return forecast[['ds', 'ticker', 'yhat', 'yhat_upper', 'yhat_lower']]  \n",
        "\n",
        "# Start time\n",
        "start_time = time()\n",
        "\n",
        "# Train and forecast by ticker \n",
        "spark_forecast = sdf.groupBy('ticker').apply(train_and_forecast)\n",
        "\n",
        "# Take a look at the results\n",
        "spark_forecast.show(5)\n",
        "\n",
        "# Processing time\n",
        "print('The time used for the Spark forecast is ', time()-start_time)"
      ],
      "metadata": {
        "colab": {
          "base_uri": "https://localhost:8080/"
        },
        "id": "NvFEa3e21ml9",
        "outputId": "ba923808-8b6d-44b4-8643-ce473affc07f"
      },
      "execution_count": null,
      "outputs": [
        {
          "output_type": "stream",
          "name": "stderr",
          "text": [
            "/usr/local/lib/python3.7/dist-packages/pyspark/sql/pandas/group_ops.py:84: UserWarning: It is preferred to use 'applyInPandas' over this API. This API will be deprecated in the future releases. See SPARK-28264 for more details.\n",
            "  \"more details.\", UserWarning)\n"
          ]
        },
        {
          "output_type": "stream",
          "name": "stdout",
          "text": [
            "+----------+------+---------+----------+----------+\n",
            "|        ds|ticker|     yhat|yhat_upper|yhat_lower|\n",
            "+----------+------+---------+----------+----------+\n",
            "|2020-01-02|  AMZN|1874.2633| 2038.9186| 1731.7717|\n",
            "|2020-01-03|  AMZN|1867.2312| 2000.8362| 1707.6724|\n",
            "|2020-01-06|  AMZN|1868.9219| 2024.8553| 1721.1112|\n",
            "|2020-01-07|  AMZN|1881.8456| 2028.5168| 1736.3002|\n",
            "|2020-01-08|  AMZN|1886.3406| 2047.3295| 1743.9379|\n",
            "+----------+------+---------+----------+----------+\n",
            "only showing top 5 rows\n",
            "\n",
            "The time used for the Spark forecast is  11.952160358428955\n"
          ]
        }
      ]
    },
    {
      "cell_type": "markdown",
      "source": [
        "# Step 8: Which Method to use?"
      ],
      "metadata": {
        "id": "OfUWXLym7Fgw"
      }
    },
    {
      "cell_type": "markdown",
      "source": [
        "Now you know how to make multiple time series forecasting using a for-loop, using multi-processing, and using Spark, which method should you use for your project?\n",
        "\n",
        "The general guideline is:\n",
        "* When the number of models is small, there is not a big difference in processing time, so any one of the three methods is good to use.\n",
        "* When the number of models is medium, use multi-processing or Spark to utilize multiple CPUs in parallel.\n",
        "* When the number of models is large, Spark is preferred."
      ],
      "metadata": {
        "id": "nSOckI9E5T8z"
      }
    },
    {
      "cell_type": "markdown",
      "source": [
        "# Put All Code Together"
      ],
      "metadata": {
        "id": "MHWDHtScActd"
      }
    },
    {
      "cell_type": "code",
      "source": [
        "#-------------------------------------------------------------#\n",
        "# Step 1: Install and Import Libraries\n",
        "#-------------------------------------------------------------#\n",
        "\n",
        "# Install libraries\n",
        "!pip install yfinance prophet pyspark\n",
        "\n",
        "# Data processing\n",
        "import pandas as pd\n",
        "import numpy as np\n",
        "\n",
        "# Get time series data\n",
        "import yfinance as yf\n",
        "\n",
        "# Prophet model for time series forecast\n",
        "from prophet import Prophet\n",
        "\n",
        "# Visualization\n",
        "import seaborn as sns\n",
        "import matplotlib.pyplot as plt\n",
        "\n",
        "# Multi-processing\n",
        "from multiprocessing import Pool, cpu_count\n",
        "\n",
        "# Spark\n",
        "from pyspark.sql.types import *\n",
        "from pyspark.sql.functions import pandas_udf, PandasUDFType\n",
        "\n",
        "# Process bar\n",
        "from tqdm import tqdm\n",
        "\n",
        "# Tracking time\n",
        "from time import time\n",
        "\n",
        "#-------------------------------------------------------------#\n",
        "# Step 2: Pull Data\n",
        "#-------------------------------------------------------------#\n",
        "\n",
        "# Data start date\n",
        "start_date = '2020-01-02'\n",
        "\n",
        "# Data end date\n",
        "end_date = '2022-01-01' # yfinance excludes the end date, so we need to add one day to the last day of data\n",
        "\n",
        "# Download data\n",
        "ticker_list = ['FB', 'GOOG', 'ORCL', 'MSFT', 'AMZN']\n",
        "data = yf.download(ticker_list, start=start_date, end=end_date)[['Close']]\n",
        "\n",
        "# Drop the top level column name\n",
        "data.columns = data.columns.droplevel()\n",
        "\n",
        "# Take a look at the data\n",
        "data.head()\n",
        "\n",
        "# Visualize data using seaborn\n",
        "sns.set(rc={'figure.figsize':(12,8)})\n",
        "sns.lineplot(x=data.index, y=data['FB'])\n",
        "sns.lineplot(x=data.index, y=data['AMZN'])\n",
        "sns.lineplot(x=data.index, y=data['GOOG'])\n",
        "sns.lineplot(x=data.index, y=data['MSFT'])\n",
        "sns.lineplot(x=data.index, y=data['ORCL'])\n",
        "plt.legend(labels = ['Facebook', 'Amazon', 'Google', 'Microsoft', 'Oracle'])\n",
        "\n",
        "# Data information\n",
        "data.info()\n",
        "\n",
        "#-------------------------------------------------------------#\n",
        "# Step 3: Data Processing\n",
        "#-------------------------------------------------------------#\n",
        "\n",
        "# Release Date from the index\n",
        "data = data.reset_index()\n",
        "\n",
        "# Change data from the wide format to the long format\n",
        "df = pd.melt(data, id_vars='Date', value_vars=['AMZN', 'FB', 'GOOG', 'MSFT', 'ORCL'])\n",
        "df.columns = ['ds', 'ticker', 'y']\n",
        "df.head()\n",
        "\n",
        "# Check the dataset information\n",
        "df.info()\n",
        "\n",
        "# Group the data by ticker\n",
        "groups_by_ticker = df.groupby('ticker')\n",
        "\n",
        "# Check the groups in the dataframe\n",
        "groups_by_ticker.groups.keys()\n",
        "\n",
        "#-------------------------------------------------------------#\n",
        "# Step 4: Define Function\n",
        "#-------------------------------------------------------------#\n",
        "\n",
        "def train_and_forecast(group):\n",
        "\n",
        "  # Initiate the model\n",
        "  m = Prophet()\n",
        "  \n",
        "  # Fit the model\n",
        "  m.fit(group)\n",
        "\n",
        "  # Make predictions\n",
        "  future = m.make_future_dataframe(periods=15)\n",
        "  forecast = m.predict(future)[['ds', 'yhat', 'yhat_lower', 'yhat_upper']]\n",
        "  forecast['ticker'] = group['ticker'].iloc[0]\n",
        "  \n",
        "  # Return the forecasted results\n",
        "  return forecast[['ds', 'ticker', 'yhat', 'yhat_upper', 'yhat_lower']]  \n",
        "\n",
        "#-------------------------------------------------------------#\n",
        "# Step 5: Multiple Time Series Forecast Using For-Loop\n",
        "#-------------------------------------------------------------#\n",
        "\n",
        "# Start time\n",
        "start_time = time()\n",
        "\n",
        "# Create an empty dataframe\n",
        "for_loop_forecast = pd.DataFrame()\n",
        "\n",
        "# Loop through each ticker\n",
        "for ticker in ticker_list:\n",
        "  # Get the data for the ticker\n",
        "  group = groups_by_ticker.get_group(ticker)  \n",
        "  # Make forecast\n",
        "  forecast = train_and_forecast(group)\n",
        "  # Add the forecast results to the dataframe\n",
        "  for_loop_forecast = pd.concat((for_loop_forecast, forecast))\n",
        "\n",
        "# Print processing time\n",
        "print('The time used for the for-loop forecast is ', time()-start_time)\n",
        "\n",
        "# Take a look at the data\n",
        "for_loop_forecast.head()\n",
        "\n",
        "#-------------------------------------------------------------#\n",
        "# Step 6: Multiple Time Series Forecast Using Multi-Processing\n",
        "#-------------------------------------------------------------#\n",
        "\n",
        "# Start time\n",
        "start_time = time()\n",
        "\n",
        "# Get time series data for each ticker and save in a list\n",
        "series = [groups_by_ticker.get_group(ticker) for ticker in ticker_list]\n",
        "\n",
        "# Create a pool process with the number of worker processes being the number of CPUs\n",
        "p = Pool(cpu_count())\n",
        "\n",
        "# Make predictions for each ticker and save the results to a list\n",
        "predictions = list(tqdm(p.imap(train_and_forecast, series), total=len(series)))\n",
        "\n",
        "# Terminate the pool process\n",
        "p.close()\n",
        "\n",
        "# Tell the pool to wait till all the jobs are finished before exit\n",
        "p.join()\n",
        "\n",
        "# Concatenate results\n",
        "multiprocess_forecast = pd.concat(predictions)\n",
        "\n",
        "# Get the time used for the forecast\n",
        "print('\\nThe time used for the multi-processing forecast is ', time()-start_time)\n",
        "\n",
        "#-------------------------------------------------------------#\n",
        "# Step 7: Multiple Time Series Forecast Using Spark\n",
        "#-------------------------------------------------------------#\n",
        "\n",
        "# Import SparkSession\n",
        "from pyspark.sql import SparkSession\n",
        "# Create a Spark Session\n",
        "spark = SparkSession.builder.master(\"local[*]\").getOrCreate()\n",
        "# Check Spark Session Information\n",
        "spark\n",
        "\n",
        "# Convert the pandas dataframe into a spark dataframe\n",
        "sdf = spark.createDataFrame(df)\n",
        "\n",
        "# Define the restult schema\n",
        "result_schema =StructType([\n",
        "  StructField('ds',DateType()),\n",
        "  StructField('ticker',StringType()),\n",
        "  StructField('yhat',FloatType()),\n",
        "  StructField('yhat_upper',FloatType()),\n",
        "  StructField('yhat_lower',FloatType())\n",
        "  ])\n",
        "\n",
        "# Start time\n",
        "start_time = time()\n",
        "\n",
        "# Train and forecast by ticker \n",
        "spark_forecast = sdf.groupBy('ticker').applyInPandas(train_and_forecast, schema=result_schema)\n",
        "\n",
        "# Take a look at the results\n",
        "spark_forecast.show(5)\n",
        "\n",
        "# Processing time\n",
        "print('The time used for the Spark forecast is ', time()-start_time)\n",
        "\n",
        "\n",
        "###### Using Pandas UDF - It is preferred to use applyInPandas over this API because it will be deprecated in the future releases\n",
        "@pandas_udf( result_schema, PandasUDFType.GROUPED_MAP )\n",
        "def train_and_forecast(group):\n",
        "\n",
        "  # Initiate the model\n",
        "  m = Prophet()\n",
        "  \n",
        "  # Fit the model\n",
        "  m.fit(group)\n",
        "\n",
        "  # Make predictions\n",
        "  future = m.make_future_dataframe(periods=15)\n",
        "  forecast = m.predict(future)[['ds', 'yhat', 'yhat_lower', 'yhat_upper']]\n",
        "  forecast['ticker'] = group['ticker'].iloc[0]\n",
        "  \n",
        "  # Return the forecasted results\n",
        "  return forecast[['ds', 'ticker', 'yhat', 'yhat_upper', 'yhat_lower']]  \n",
        "\n",
        "# Start time\n",
        "start_time = time()\n",
        "\n",
        "# Train and forecast by ticker \n",
        "spark_forecast = sdf.groupBy('ticker').apply(train_and_forecast)\n",
        "\n",
        "# Take a look at the results\n",
        "spark_forecast.show(5)\n",
        "\n",
        "# Processing time\n",
        "print('The time used for the Spark forecast is ', time()-start_time)"
      ],
      "metadata": {
        "id": "RPF97z0NAh80"
      },
      "execution_count": null,
      "outputs": []
    },
    {
      "cell_type": "markdown",
      "source": [
        "# Recommended Tutorials"
      ],
      "metadata": {
        "id": "ZVQubGi5Aiz1"
      }
    },
    {
      "cell_type": "markdown",
      "source": [
        "- [GrabNGoInfo Machine Learning Tutorials Inventory](https://medium.com/grabngoinfo/grabngoinfo-machine-learning-tutorials-inventory-9b9d78ebdd67)\n",
        "- [Hierarchical Topic Model for Airbnb Reviews](https://medium.com/p/hierarchical-topic-model-for-airbnb-reviews-f772eaa30434)\n",
        "- [3 Ways for Multiple Time Series Forecasting Using Prophet in Python](https://medium.com/p/3-ways-for-multiple-time-series-forecasting-using-prophet-in-python-7a0709a117f9)\n",
        "- [Time Series Anomaly Detection Using Prophet in Python](https://medium.com/grabngoinfo/time-series-anomaly-detection-using-prophet-in-python-877d2b7b14b4)\n",
        "- [Time Series Causal Impact Analysis in Python](https://medium.com/grabngoinfo/time-series-causal-impact-analysis-in-python-63eacb1df5cc)\n",
        "- [Hyperparameter Tuning For XGBoost](https://medium.com/p/hyperparameter-tuning-for-xgboost-91449869c57e)\n",
        "- [Four Oversampling And Under-Sampling Methods For Imbalanced Classification Using Python](https://medium.com/p/four-oversampling-and-under-sampling-methods-for-imbalanced-classification-using-python-7304aedf9037)\n",
        "- [Five Ways To Create Tables In Databricks](https://medium.com/grabngoinfo/five-ways-to-create-tables-in-databricks-cd3847cfc3aa)\n",
        "- [Explainable S-Learner Uplift Model Using Python Package CausalML](https://medium.com/grabngoinfo/explainable-s-learner-uplift-model-using-python-package-causalml-a3c2bed3497c)\n",
        "- [One-Class SVM For Anomaly Detection](https://medium.com/p/one-class-svm-for-anomaly-detection-6c97fdd6d8af)\n",
        "- [Recommendation System: Item-Based Collaborative Filtering](https://medium.com/grabngoinfo/recommendation-system-item-based-collaborative-filtering-f5078504996a)\n",
        "- [Hyperparameter Tuning for Time Series Causal Impact Analysis in Python](https://medium.com/grabngoinfo/hyperparameter-tuning-for-time-series-causal-impact-analysis-in-python-c8f7246c4d22)\n",
        "- [Hyperparameter Tuning and Regularization for Time Series Model Using Prophet in Python](https://medium.com/grabngoinfo/hyperparameter-tuning-and-regularization-for-time-series-model-using-prophet-in-python-9791370a07dc)\n",
        "- [Multivariate Time Series Forecasting with Seasonality and Holiday Effect Using Prophet in Python](https://medium.com/p/multivariate-time-series-forecasting-with-seasonality-and-holiday-effect-using-prophet-in-python-d5d4150eeb57)\n",
        "- [LASSO (L1) Vs Ridge (L2) Vs Elastic Net Regularization For Classification Model](https://medium.com/towards-artificial-intelligence/lasso-l1-vs-ridge-l2-vs-elastic-net-regularization-for-classification-model-409c3d86f6e9)\n",
        "- [S Learner Uplift Model for Individual Treatment Effect and Customer Segmentation in Python](https://medium.com/grabngoinfo/s-learner-uplift-model-for-individual-treatment-effect-and-customer-segmentation-in-python-9d410746e122)\n",
        "- [How to Use R with Google Colab Notebook](https://medium.com/p/how-to-use-r-with-google-colab-notebook-610c3a2f0eab)"
      ],
      "metadata": {
        "id": "lqGBhfVIDB3p"
      }
    },
    {
      "cell_type": "markdown",
      "source": [
        "# References"
      ],
      "metadata": {
        "id": "CJEACV_j4OB7"
      }
    },
    {
      "cell_type": "markdown",
      "source": [
        "* [Multiprocessing — Process-based parallelism documentation](https://docs.python.org/3/library/multiprocessing.html)\n",
        "* [PySpark documentation on applyInPandas](https://spark.apache.org/docs/latest/api/python/reference/api/pyspark.sql.GroupedData.applyInPandas.html?highlight=applyinpandas#pyspark.sql.GroupedData.applyInPandas)\n",
        "* [Fine-Grained Time Series Forecasting At Scale With Facebook Prophet And Apache Spark](https://databricks.com/blog/2020/01/27/time-series-forecasting-prophet-spark.html)\n",
        "* [Prophet documentation on non-daily data](https://facebook.github.io/prophet/docs/non-daily_data.html)"
      ],
      "metadata": {
        "id": "xlCGs1j84VUR"
      }
    }
  ]
}